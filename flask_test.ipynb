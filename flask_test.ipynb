{
 "cells": [
  {
   "cell_type": "code",
   "execution_count": 1,
   "id": "62b8b83c",
   "metadata": {},
   "outputs": [],
   "source": [
    "from flask import Flask, render_template, send_from_directory, request, url_for, flash, redirect\n",
    "from werkzeug.utils import secure_filename\n",
    "import os, time"
   ]
  },
  {
   "cell_type": "code",
   "execution_count": 2,
   "id": "2c56559a",
   "metadata": {},
   "outputs": [],
   "source": [
    "app = Flask(__name__)\n",
    "app.config['UPLOAD_FOLDER'] = 'C:/Users/yulin/anaconda3/GProject_/uploads'\n",
    "app.config['DOWNLOAD_FOLDER'] = 'C:/Users/yulin/anaconda3/GProject_/output'\n",
    "ALLOWED_EXTENSIONS = set(['txt', 'pdf'])"
   ]
  },
  {
   "cell_type": "code",
   "execution_count": 3,
   "id": "23a67f1c",
   "metadata": {},
   "outputs": [],
   "source": [
    "@app.route(\"/\")\n",
    "def index():\n",
    "    return render_template(\"index.html\")\n",
    "@app.route('/Background.png')\n",
    "def background(): \n",
    "    return send_from_directory(os.path.join(app.root_path, '/static'), 'Background.png')\n",
    "@app.route('/favicon.svg')\n",
    "def favicon(): \n",
    "    return send_from_directory(os.path.join(app.root_path, '/static'), 'favicon.svg')"
   ]
  },
  {
   "cell_type": "code",
   "execution_count": 4,
   "id": "2e167c29",
   "metadata": {},
   "outputs": [],
   "source": [
    "def allowed_file(filename):\n",
    "    return '.' in filename and \\\n",
    "           filename.rsplit('.', 1)[1].lower() in ALLOWED_EXTENSIONS\n",
    "\n",
    "@app.route('/file-upload', methods=['GET', 'POST'])\n",
    "def upload_file():\n",
    "    if request.method == 'POST':\n",
    "        file = request.files['file']\n",
    "        if file and allowed_file(file.filename):\n",
    "            filename = secure_filename(file.filename)\n",
    "            file.save(os.path.join(app.config['UPLOAD_FOLDER'], filename))\n",
    "            return redirect(url_for('uploaded_file',filename=filename))\n",
    "    \n",
    "@app.route('/uploads/<filename>')\n",
    "def uploaded_file(filename):\n",
    "    return send_from_directory(app.config['UPLOAD_FOLDER'],filename)"
   ]
  },
  {
   "cell_type": "code",
   "execution_count": 5,
   "id": "a10236a9",
   "metadata": {},
   "outputs": [],
   "source": [
    "@app.route('/file-compared', methods=['POST', 'GET'])\n",
    "def compared_file():\n",
    "    #num = 1\n",
    "    #text_1 = \"文本1的文字集\"\n",
    "    #text_2 = \"文本2的文字集\"\n",
    "    #time = \"2022.06.07 23:33:33\"\n",
    "    items = []\n",
    "    for i in range(1, 11):\n",
    "        an_item = dict(num = 1, text_1 = \"文本1的文字集\", text_2 = \"文本2的文字集\", time = \"2022.06.07 23:33:33\")\n",
    "        items.append(an_item)\n",
    "    return render_template(\"compared.html\", items=items)"
   ]
  },
  {
   "cell_type": "code",
   "execution_count": 6,
   "id": "e8fe74be",
   "metadata": {},
   "outputs": [],
   "source": [
    "@app.route('/download', methods=['GET', 'POST'])\n",
    "def download():\n",
    "    filename = \"Hello_RE.pdf\" #多個\n",
    "    return send_from_directory(app.config['DOWNLOAD_FOLDER'],filename)"
   ]
  },
  {
   "cell_type": "code",
   "execution_count": 7,
   "id": "75b25efc",
   "metadata": {},
   "outputs": [
    {
     "name": "stdout",
     "output_type": "stream",
     "text": [
      " * Serving Flask app \"__main__\" (lazy loading)\n",
      " * Environment: production\n",
      "\u001b[31m   WARNING: This is a development server. Do not use it in a production deployment.\u001b[0m\n",
      "\u001b[2m   Use a production WSGI server instead.\u001b[0m\n",
      " * Debug mode: off\n"
     ]
    },
    {
     "name": "stderr",
     "output_type": "stream",
     "text": [
      " * Running on http://127.0.0.1:5000/ (Press CTRL+C to quit)\n",
      "127.0.0.1 - - [06/Jul/2022 07:43:38] \"GET / HTTP/1.1\" 200 -\n",
      "127.0.0.1 - - [06/Jul/2022 07:43:39] \"GET /static/Background.png HTTP/1.1\" 304 -\n",
      "127.0.0.1 - - [06/Jul/2022 07:43:41] \"POST /file-compared HTTP/1.1\" 200 -\n",
      "127.0.0.1 - - [06/Jul/2022 07:44:36] \"POST /file-compared HTTP/1.1\" 200 -\n"
     ]
    }
   ],
   "source": [
    "if __name__ == '__main__':\n",
    "    app.run()"
   ]
  },
  {
   "cell_type": "code",
   "execution_count": null,
   "id": "2cbb329e",
   "metadata": {},
   "outputs": [],
   "source": []
  },
  {
   "cell_type": "code",
   "execution_count": 8,
   "id": "b3bfcf3c",
   "metadata": {},
   "outputs": [
    {
     "data": {
      "text/plain": [
       "'1657065453'"
      ]
     },
     "execution_count": 8,
     "metadata": {},
     "output_type": "execute_result"
    }
   ],
   "source": [
    "str(int(time.time()))"
   ]
  },
  {
   "cell_type": "code",
   "execution_count": 37,
   "id": "db1e1edc",
   "metadata": {},
   "outputs": [],
   "source": [
    "str = '20220706-080155'\n",
    "str = str.replace('-', ' ')"
   ]
  },
  {
   "cell_type": "code",
   "execution_count": 33,
   "id": "74fe97cd",
   "metadata": {},
   "outputs": [
    {
     "data": {
      "text/plain": [
       "'2022'"
      ]
     },
     "execution_count": 33,
     "metadata": {},
     "output_type": "execute_result"
    }
   ],
   "source": [
    "str = '20220706-080155'\n",
    "str[:4]"
   ]
  },
  {
   "cell_type": "code",
   "execution_count": 22,
   "id": "00d3e133",
   "metadata": {},
   "outputs": [
    {
     "data": {
      "text/plain": [
       "'07'"
      ]
     },
     "execution_count": 22,
     "metadata": {},
     "output_type": "execute_result"
    }
   ],
   "source": [
    "str[4:6]"
   ]
  },
  {
   "cell_type": "code",
   "execution_count": 23,
   "id": "b741957d",
   "metadata": {},
   "outputs": [
    {
     "data": {
      "text/plain": [
       "'06'"
      ]
     },
     "execution_count": 23,
     "metadata": {},
     "output_type": "execute_result"
    }
   ],
   "source": [
    "str[6:8]"
   ]
  },
  {
   "cell_type": "code",
   "execution_count": 24,
   "id": "457713fc",
   "metadata": {},
   "outputs": [
    {
     "data": {
      "text/plain": [
       "'08'"
      ]
     },
     "execution_count": 24,
     "metadata": {},
     "output_type": "execute_result"
    }
   ],
   "source": [
    "str[9:11]"
   ]
  },
  {
   "cell_type": "code",
   "execution_count": 25,
   "id": "4dbfc537",
   "metadata": {},
   "outputs": [
    {
     "data": {
      "text/plain": [
       "'01'"
      ]
     },
     "execution_count": 25,
     "metadata": {},
     "output_type": "execute_result"
    }
   ],
   "source": [
    "str[11:13]"
   ]
  },
  {
   "cell_type": "code",
   "execution_count": 26,
   "id": "763b5380",
   "metadata": {},
   "outputs": [
    {
     "data": {
      "text/plain": [
       "'55'"
      ]
     },
     "execution_count": 26,
     "metadata": {},
     "output_type": "execute_result"
    }
   ],
   "source": [
    "str[-2:]"
   ]
  },
  {
   "cell_type": "code",
   "execution_count": 38,
   "id": "f5a53329",
   "metadata": {},
   "outputs": [
    {
     "data": {
      "text/plain": [
       "'2022/07/06 08:01:55'"
      ]
     },
     "execution_count": 38,
     "metadata": {},
     "output_type": "execute_result"
    }
   ],
   "source": [
    "str = str[:4] + '/' + str[4:6] + '/' + str[6:8] +  ' ' + str[9:11] + ':' + str[11:13] + ':' + str[-2:]\n",
    "str"
   ]
  },
  {
   "cell_type": "code",
   "execution_count": 39,
   "id": "81388c3d",
   "metadata": {},
   "outputs": [
    {
     "data": {
      "text/plain": [
       "25"
      ]
     },
     "execution_count": 39,
     "metadata": {},
     "output_type": "execute_result"
    }
   ],
   "source": [
    "str = '20220705-044806Report.pdf'\n",
    "len(str)"
   ]
  },
  {
   "cell_type": "code",
   "execution_count": null,
   "id": "560600a3",
   "metadata": {},
   "outputs": [],
   "source": []
  }
 ],
 "metadata": {
  "kernelspec": {
   "display_name": "Python 3 (ipykernel)",
   "language": "python",
   "name": "python3"
  },
  "language_info": {
   "codemirror_mode": {
    "name": "ipython",
    "version": 3
   },
   "file_extension": ".py",
   "mimetype": "text/x-python",
   "name": "python",
   "nbconvert_exporter": "python",
   "pygments_lexer": "ipython3",
   "version": "3.9.7"
  }
 },
 "nbformat": 4,
 "nbformat_minor": 5
}
