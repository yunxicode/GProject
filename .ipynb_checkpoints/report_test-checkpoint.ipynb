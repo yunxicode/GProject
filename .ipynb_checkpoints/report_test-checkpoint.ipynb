{
 "cells": [
  {
   "cell_type": "code",
   "execution_count": 5,
   "id": "1e77056e",
   "metadata": {},
   "outputs": [
    {
     "data": {
      "text/plain": [
       "<Figure size 720x360 with 0 Axes>"
      ]
     },
     "metadata": {},
     "output_type": "display_data"
    }
   ],
   "source": [
    "import matplotlib\n",
    "from matplotlib import pyplot as plt\n",
    "\n",
    "plt.figure(figsize=(10, 5)) \n",
    "\n",
    "# 將字體換成SimHei\n",
    "plt.rcParams['font.sans-serif'] = ['SimHei']"
   ]
  },
  {
   "cell_type": "code",
   "execution_count": 6,
   "id": "9e10598e",
   "metadata": {},
   "outputs": [],
   "source": [
    "import jieba\n",
    "import jieba.analyse\n",
    "\n",
    "jieba.set_dictionary(\"./dict.txt\")\n",
    "# 載入自定義詞庫：jieba.load_userdict(file_path)\n",
    "# 加入字詞：jieba.add_word(word, freq=None, tag=None)\n",
    "# 刪除字詞：jieba.del_word(word)\n",
    "\n",
    "with open('./stopwords_zhTW.txt', encoding=\"utf-8\") as f:\n",
    "    stopword_list = [s for s in f.read().split('\\n')]"
   ]
  },
  {
   "cell_type": "code",
   "execution_count": 7,
   "id": "f0879ff2",
   "metadata": {},
   "outputs": [],
   "source": [
    "def load_file(filename): #匯入檔案名\n",
    "    file = '' \n",
    "    path = './uploads/' + filename\n",
    "    with open(path,'r', encoding = 'utf-8') as load:\n",
    "        file = load.readlines()\n",
    "        load.close()\n",
    "    return file"
   ]
  },
  {
   "cell_type": "code",
   "execution_count": 8,
   "id": "cefba9ad",
   "metadata": {},
   "outputs": [],
   "source": [
    "def pre_file(file):\n",
    "    part = ''\n",
    "    for i in range(len(file)):\n",
    "        if file[i] != '\\n':\n",
    "            word_list = jieba.cut(file[i], cut_all=False)\n",
    "            for word in word_list:\n",
    "                if word not in stopword_list:\n",
    "                    part += word + \" \"\n",
    "    return part"
   ]
  },
  {
   "cell_type": "code",
   "execution_count": 9,
   "id": "720ae113",
   "metadata": {},
   "outputs": [],
   "source": [
    "# 全文詞向量：文章主題＆網路爬蟲關鍵字(10)\n",
    "def all_part(a_part):\n",
    "    all_part = jieba.analyse.extract_tags(a_part, topK=10, withWeight=False, allowPOS=()) #topK為返回幾個TF / IDF權重最大的關鍵詞，默認值為20\n",
    "    #print(all_part)\n",
    "    #for x, w in jieba.analyse.extract_tags(a_part, topK=10, withWeight=True):\n",
    "        #print('%s %s' % (x, w))\n",
    "    return all_part"
   ]
  },
  {
   "cell_type": "code",
   "execution_count": 10,
   "id": "2a4429bd",
   "metadata": {},
   "outputs": [],
   "source": [
    "# 詞彙分佈圖\n",
    "import matplotlib.pyplot as plt\n",
    "import nltk, time\n",
    "\n",
    "def img(all_part, filename):\n",
    "    fig = plt.figure(figsize=(10, 5)) \n",
    "    load_path = \"./uploads/\" + filename\n",
    "    raw = open(load_path, encoding = 'utf-8').read() \n",
    "    text1 = nltk.text.Text(jieba.cut(raw))\n",
    "    graph1 = nltk.text.Text(text1)\n",
    "    graph1.dispersion_plot(all_part)\n",
    "    timestr = time.strftime(\"%Y%m%d-%H%M%S\")\n",
    "    path = './output/' + timestr + 'plot.png'\n",
    "    if os.path.isfile(path):\n",
    "        time.sleep(1)\n",
    "        timestr = time.strftime(\"%Y%m%d-%H%M%S\")\n",
    "        path = './output/' + timestr + 'plot.png'\n",
    "    fig.savefig(path)\n",
    "    return path"
   ]
  },
  {
   "cell_type": "code",
   "execution_count": 11,
   "id": "44d0b034",
   "metadata": {},
   "outputs": [],
   "source": [
    "# 詞彙多樣性：全文\n",
    "def lexical_diversity(text):\n",
    "    return len(set(text)) / len(text)"
   ]
  },
  {
   "cell_type": "code",
   "execution_count": 12,
   "id": "34458001",
   "metadata": {},
   "outputs": [],
   "source": [
    "# 段落詞向量：文本對齊的關鍵字(3)\n",
    "def part_(file):\n",
    "    part = []\n",
    "    for i in range(len(file)):\n",
    "        s = file[i]\n",
    "        epart = jieba.analyse.extract_tags(s, topK=3, withWeight=False, allowPOS=()) #topK為返回幾個TF / IDF權重最大的關鍵詞，默認值為20\n",
    "        part.append(epart)\n",
    "        #print(epart)\n",
    "        #for x, w in jieba.analyse.extract_tags(s, topK=3, withWeight=True):\n",
    "            #print('%s %s' % (x, w))\n",
    "        #print()\n",
    "    return part"
   ]
  },
  {
   "cell_type": "code",
   "execution_count": 13,
   "id": "ad283d03",
   "metadata": {},
   "outputs": [],
   "source": [
    "def lcs(s1, s2, m, n):\n",
    "    num = [[0 for i in range(n+1)] for j in range(m+1)]\n",
    "    for i in range(1,m+1):\n",
    "        for j in range(1, n+1):\n",
    "            if s1[i-1] == s2[j-1]:\n",
    "                num[i][j] = num[i-1][j-1]+1\n",
    "            else:\n",
    "                num[i][j] = max(num[i-1][j], num[i][j-1])\n",
    "    return num[-1][-1]"
   ]
  },
  {
   "cell_type": "code",
   "execution_count": 14,
   "id": "4bc2700b",
   "metadata": {},
   "outputs": [],
   "source": [
    "import re, difflib, time\n",
    "import editdistance\n",
    "def analyze(partA, partB, story, file1, file2, p):\n",
    "    for ai in range(len(partA)):\n",
    "        for aj in partA[ai]:\n",
    "            for bi in range(len(partB)):\n",
    "                for bj in partB[bi]:\n",
    "                    if aj == bj:\n",
    "                        #print(\"【關鍵字】：\", aj)\n",
    "                        sk = \"【關鍵字】：\" + aj + \"（\" + str(ai+1) + \"－\" + str(bi+1) + \"）\"\n",
    "                        story.append(p.doH5(sk))\n",
    "                        keyword1 = [['文本1 (段落)', '文本2 (段落)']]\n",
    "                        keyword2 = [['相似度', 'LCS', '編輯距離']]\n",
    "                        aList = re.split('，|。', str(file1[ai]))\n",
    "                        bList = re.split('，|。', str(file2[bi]))\n",
    "                        for s1 in aList:\n",
    "                            if aj in s1:\n",
    "                                for s2 in bList:\n",
    "                                    if aj in s2:\n",
    "                                        if len(s1) > 18:\n",
    "                                            s1 = s1[0:18] + \"...\"\n",
    "                                        if len(s2) > 18:\n",
    "                                            s2 = s2[0:18] + \"...\"\n",
    "                                        if str(ai+1) in s1:\n",
    "                                            s1 = s1\n",
    "                                        else:\n",
    "                                            s1 = s1 + \"   (\" + str(ai+1) + \")\"\n",
    "                                        if str(bi+1) in s2:\n",
    "                                            s2 = s2\n",
    "                                        else:\n",
    "                                            s2 = s2 + \"   (\" + str(bi+1) + \")\"\n",
    "                                        list1 = []\n",
    "                                        list2 = []\n",
    "                                        list1.append(s1)\n",
    "                                        list1.append(s2)\n",
    "                                        #print(\"%1s %-50s %1s %-50s\" % (\"A\", s1, \"B\", s2))  # 相似段落\n",
    "                                        diff_cal = difflib.SequenceMatcher(None, s1, s2).ratio() #diff_cal\n",
    "                                        diff_cal = round(diff_cal,2)\n",
    "                                        list2.append(diff_cal)\n",
    "                                        #print(\"Diff: \", diff_cal)\n",
    "                                        lcs_cal = lcs(s1, s2, len(s1), len(s2)) #lcs_cal\n",
    "                                        list2.append(lcs_cal)\n",
    "                                        #print(\"LCS: \", lcs_cal)\n",
    "                                        editDistance = editdistance.eval(s1, s2)\n",
    "                                        list2.append(editDistance)\n",
    "                                        #print(\"Edit distance: \", editDistance) #editdistance\n",
    "                                        #print()\n",
    "                                        if diff_cal >= 0.5:\n",
    "                                            keyword1.append(list1)\n",
    "                                            content = Table(keyword1, colWidths=220, style=table_style_p1)\n",
    "                                            story.append(content)\n",
    "\n",
    "                                            keyword2.append(list2)\n",
    "                                            number = Table(keyword2, colWidths=146.6, style=table_style_p2)\n",
    "                                            story.append(number)\n",
    "                                        else:\n",
    "                                            keyword1.append(list1)\n",
    "                                            content = Table(keyword1, colWidths=220, style=table_style_p11)\n",
    "                                            story.append(content)\n",
    "\n",
    "                                            keyword2.append(list2)\n",
    "                                            number = Table(keyword2, colWidths=146.6, style=table_style_p12)\n",
    "                                            story.append(number)\n",
    "                                        keyword1 = []\n",
    "                                        keyword2 = []\n",
    "    timestr = time.strftime(\"%Y%m%d-%H%M%S\")\n",
    "    report_path = \"./output/\" + timestr + \"Report.pdf\"\n",
    "    if os.path.isfile(report_path):\n",
    "        time.sleep(1)\n",
    "        timestr = time.strftime(\"%Y%m%d-%H%M%S\")\n",
    "        report_path = \"./output/\" + timestr + \"Report.pdf\" # 檔案名稱+時間\n",
    "    doc = SimpleDocTemplate(report_path)\n",
    "    doc.build(story)\n",
    "    return report_path, timestr"
   ]
  },
  {
   "cell_type": "code",
   "execution_count": 15,
   "id": "d94e175d",
   "metadata": {},
   "outputs": [],
   "source": [
    "import reportlab\n",
    "import os\n",
    "from reportlab.graphics.charts.lineplots import LinePlot\n",
    "from reportlab.graphics.charts.piecharts import Pie\n",
    "from reportlab.graphics.shapes import Drawing\n",
    "from reportlab.lib import colors\n",
    "from reportlab.lib.styles import ParagraphStyle\n",
    "from reportlab.pdfbase import pdfmetrics\n",
    "from reportlab.pdfbase.pdfmetrics import registerFontFamily\n",
    "from reportlab.pdfbase.ttfonts import TTFont\n",
    "from reportlab.platypus import Paragraph\n",
    "from reportlab.platypus import SimpleDocTemplate, Paragraph, Table, Image\n",
    "from reportlab.lib.styles import getSampleStyleSheet\n",
    "\n",
    "home = os.path.expanduser(\"~\")\n",
    "\n",
    "pdfmetrics.registerFont(TTFont('MSJH', './fonts/MSJH.TTC'))\n",
    "pdfmetrics.registerFont(TTFont('MSJHBD', './fonts/MSJHBD.TTC'))\n",
    "registerFontFamily(\"MSJH\", normal=\"MSJH\", bold=\"MSJHBD\")\n",
    "FONT_NAME = \"MSJH\"\n",
    "\n",
    "class MyCSS:\n",
    "    h1 = ParagraphStyle(name=\"h1\", fontName=FONT_NAME, fontSize=21, leading=28, alignment=1, spaceAfter=16)\n",
    "    h3 = ParagraphStyle(name=\"h3\", fontName=FONT_NAME, fontSize=14, leading=21, spaceBefore=16)\n",
    "    h4 = ParagraphStyle(name=\"h4\", fontName=FONT_NAME, fontSize=12, leading=21, spaceBefore=8)\n",
    "    h5 = ParagraphStyle(name=\"h5\", fontName=FONT_NAME, fontSize=12, leading=21, spaceBefore=8)\n",
    "    p = ParagraphStyle(name=\"BodyText\", fontName=FONT_NAME, fontSize=12, leading=18, spaceBefore=8, firstLineIndent=24)\n",
    "    r = ParagraphStyle(name=\"BodyText\", fontName=FONT_NAME, fontSize=12, leading=18, spaceBefore=8, firstLineIndent=24, textColor=colors.red)\n",
    "\n",
    "class PiiPdf:\n",
    "    @classmethod\n",
    "    def doH1(cls, text: str):\n",
    "        return Paragraph(text, MyCSS.h1)\n",
    "\n",
    "    @classmethod\n",
    "    def doH3(cls, text: str):\n",
    "        return Paragraph(text, MyCSS.h3)\n",
    "    \n",
    "    @classmethod\n",
    "    def doH4(cls, text: str):\n",
    "        return Paragraph(text, MyCSS.h4)\n",
    "    \n",
    "    @classmethod\n",
    "    def doH5(cls, text: str):\n",
    "        return Paragraph(text, MyCSS.h5)\n",
    "\n",
    "    @classmethod\n",
    "    def doP(cls, text: str):\n",
    "        return Paragraph(text, MyCSS.p)\n",
    "\n",
    "from reportlab.platypus import TableStyle\n",
    "table_style=TableStyle([\n",
    "         ('FONT', (0, 0), (-1, -1), 'MSJH', 10),\n",
    "         ('ALIGN', (0, 0), (-1, -1), 'CENTER'),\n",
    "         ('GRID', (0,0), (-1,-1), 0.5, colors.gray),\n",
    "         ('INNERGRID', (0,0), (-1,-1), 0.25, colors.gray),\n",
    "         ('BOX', (0,0), (-1,-1), 0.25, colors.gray),\n",
    "         ('BACKGROUND',(0,0),(-1,0),colors.lavender),\n",
    "         ('BACKGROUND',(0,-1),(-1,-1),colors.white)])\n",
    "table_style_p11=TableStyle([\n",
    "         ('FONT', (0, 0), (-1, -1), 'MSJH', 10),\n",
    "         ('ALIGN', (0, 0), (-1, 0), 'CENTER'),\n",
    "         ('ALIGN', (0, -1), (-1, -1), 'LEFT'),\n",
    "         ('GRID', (0,0), (-1,-1), 0.5, colors.gray),\n",
    "         ('INNERGRID', (0,0), (-1,-1), 0.25, colors.gray),\n",
    "         ('BOX', (0,0), (-1,-1), 0.25, colors.gray),\n",
    "         ('BACKGROUND',(0,0),(-1,0),colors.lavender),\n",
    "         ('BACKGROUND',(0,-1),(-1,-1),colors.white)])\n",
    "table_style_p12=TableStyle([\n",
    "         ('FONT', (0, 0), (-1, -1), 'MSJH', 10),\n",
    "         ('ALIGN', (0, 0), (-1, -1), 'CENTER'),\n",
    "         ('GRID', (0,0), (-1,-1), 0.5, colors.gray),\n",
    "         ('INNERGRID', (0,0), (-1,-1), 0.25, colors.gray),\n",
    "         ('BOX', (0,0), (-1,-1), 0.25, colors.gray),\n",
    "         ('BACKGROUND',(0,0),(-1,0),colors.lavender),\n",
    "         ('BACKGROUND',(0,-1),(-1,-1),colors.white)])\n",
    "table_style_p1 = TableStyle([\n",
    "         ('FONT', (0, 0), (-1, -1), 'MSJH', 10),\n",
    "         ('ALIGN', (0, 0), (-1, 0), 'CENTER'),\n",
    "         ('ALIGN', (0, -1), (-1, -1), 'LEFT'),\n",
    "         ('GRID', (0,0), (-1,-1), 0.5, colors.gray),\n",
    "         ('INNERGRID', (0,0), (-1,-1), 0.25, colors.gray),\n",
    "         ('BOX', (0,0), (-1,-1), 0.25, colors.gray),\n",
    "         ('BACKGROUND',(0,0),(-1,0),colors.lavender),\n",
    "         ('BACKGROUND',(0,-1),(-1,-1),colors.lemonchiffon)])\n",
    "table_style_p2 = TableStyle([\n",
    "         ('FONT', (0, 0), (-1, -1), 'MSJH', 10),\n",
    "         ('ALIGN', (0, 0), (-1, -1), 'CENTER'),\n",
    "         ('GRID', (0,0), (-1,-1), 0.5, colors.gray),\n",
    "         ('INNERGRID', (0,0), (-1,-1), 0.25, colors.gray),\n",
    "         ('BOX', (0,0), (-1,-1), 0.25, colors.gray),\n",
    "         ('BACKGROUND',(0,0),(-1,0),colors.lavender),\n",
    "         ('BACKGROUND',(0,-1),(-1,-1),colors.lemonchiffon)])"
   ]
  },
  {
   "cell_type": "code",
   "execution_count": 18,
   "id": "decfa501",
   "metadata": {},
   "outputs": [],
   "source": [
    "def compared_report(filename1, filename2): # 時間\n",
    "    p = PiiPdf()\n",
    "    story = []\n",
    "    story.append(p.doH1(\"<b>文本分析報告</b>\"))\n",
    "    \n",
    "    f1 = load_file(filename1)\n",
    "    story.append(p.doH3(\"<b>文本1</b>\"))\n",
    "    partA = part_(f1)\n",
    "    story.append(p.doH4(\"標題： \" + f1[0] + \"　（段落＝\" + str(len(partA)) + \"）\"))\n",
    "    story.append(p.doH3(\"<b>全文關鍵字</b>\"))\n",
    "    a_part = pre_file(f1)\n",
    "    allPart_1 = all_part(a_part)\n",
    "    ten_part = [['1', '2', '3', '4', '5', '6', '7', '8', '9', '10']]\n",
    "    ten_part.append(allPart_1)\n",
    "    t = Table(ten_part, colWidths=44, style=table_style)\n",
    "    story.append(t)\n",
    "    \n",
    "    story.append(p.doH3(\"<b>詞彙分布圖</b>\"))\n",
    "    path1 = img(allPart_1, filename1)\n",
    "    photo1 = Image(path1, width=540, height=270)\n",
    "    story.append(photo1)\n",
    "    \n",
    "    f2 = load_file(filename2)\n",
    "    story.append(p.doH3(\"<b>文本2</b>\"))\n",
    "    partB = part_(f2)\n",
    "    story.append(p.doH4(\"標題： \" + f2[0] + \"　（段落＝\" + str(len(partB)) + \"）\"))\n",
    "    story.append(p.doH3(\"<b>全文關鍵字</b>\"))\n",
    "    b_part = pre_file(f2)\n",
    "    allPart_2 = all_part(b_part)\n",
    "    ten_part = [['1', '2', '3', '4', '5', '6', '7', '8', '9', '10']]\n",
    "    ten_part.append(allPart_2)\n",
    "    t = Table(ten_part, colWidths=44, style=table_style)\n",
    "    story.append(t)\n",
    "    \n",
    "    story.append(p.doH3(\"<b>詞彙分布圖</b>\"))\n",
    "    path2 = img(allPart_2, filename2)\n",
    "    photo2 = Image(path2, width=540, height=270)\n",
    "    story.append(photo2)\n",
    "    \n",
    "    story.append(p.doH3(\"<b>詞彙多樣性</b>\"))\n",
    "    score1 = lexical_diversity(a_part)\n",
    "    score2 = lexical_diversity(b_part)\n",
    "    score = [['文本1', '文本2']]\n",
    "    score_ = [score1, score1]\n",
    "    score.append(score_)\n",
    "    score_F = Table(score, colWidths=220, style=table_style)\n",
    "    story.append(score_F)\n",
    "    story.append(p.doH3(\"<b>段落比對結果</b>\"))\n",
    "    report_path, timestr = analyze(partA, partB, story, f1, f2, p)\n",
    "    \n",
    "    return report_path, timestr, f1, f2"
   ]
  },
  {
   "cell_type": "code",
   "execution_count": 19,
   "id": "ba75aded",
   "metadata": {
    "scrolled": true
   },
   "outputs": [
    {
     "data": {
      "image/png": "[encoded data removed]",
      "text/plain": [
       "<Figure size 720x360 with 1 Axes>"
      ]
     },
     "metadata": {
      "needs_background": "light"
     },
     "output_type": "display_data"
    },
    {
     "data": {
      "image/png": "[encoded data removed]",
      "text/plain": [
       "<Figure size 720x360 with 1 Axes>"
      ]
     },
     "metadata": {
      "needs_background": "light"
     },
     "output_type": "display_data"
    },
    {
     "name": "stdout",
     "output_type": "stream",
     "text": [
      "./output/20220707-144318Report.pdf\n"
     ]
    }
   ],
   "source": [
    "filename1 = 'TEXT1.txt'\n",
    "filename2 = 'TEXT2.txt'\n",
    "report_path, tstr, f1, f2 = compared_report(filename1, filename2)\n",
    "print(report_path)"
   ]
  },
  {
   "cell_type": "code",
   "execution_count": null,
   "id": "bd648f59",
   "metadata": {},
   "outputs": [],
   "source": []
  }
 ],
 "metadata": {
  "kernelspec": {
   "display_name": "Python 3 (ipykernel)",
   "language": "python",
   "name": "python3"
  },
  "language_info": {
   "codemirror_mode": {
    "name": "ipython",
    "version": 3
   },
   "file_extension": ".py",
   "mimetype": "text/x-python",
   "name": "python",
   "nbconvert_exporter": "python",
   "pygments_lexer": "ipython3",
   "version": "3.9.7"
  }
 },
 "nbformat": 4,
 "nbformat_minor": 5
}
