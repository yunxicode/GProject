{
 "cells": [
  {
   "cell_type": "markdown",
   "id": "e2b6aaf9",
   "metadata": {},
   "source": [
    "### 製圖工具 matplotlib"
   ]
  },
  {
   "cell_type": "code",
   "execution_count": 21,
   "id": "9796c927",
   "metadata": {},
   "outputs": [
    {
     "data": {
      "text/plain": [
       "<Figure size 720x360 with 0 Axes>"
      ]
     },
     "metadata": {},
     "output_type": "display_data"
    }
   ],
   "source": [
    "import matplotlib\n",
    "from matplotlib import pyplot as plt\n",
    "\n",
    "plt.figure(figsize=(10, 5)) \n",
    "\n",
    "# 將字體換成SimHei\n",
    "plt.rcParams['font.sans-serif'] = ['SimHei']"
   ]
  },
  {
   "cell_type": "markdown",
   "id": "63c93d5a",
   "metadata": {},
   "source": [
    "### PDF工具 reportlab"
   ]
  },
  {
   "cell_type": "code",
   "execution_count": 22,
   "id": "ff79ba3d",
   "metadata": {},
   "outputs": [],
   "source": [
    "import reportlab\n",
    "import os\n",
    "from reportlab.graphics.charts.lineplots import LinePlot\n",
    "from reportlab.graphics.charts.piecharts import Pie\n",
    "from reportlab.graphics.shapes import Drawing\n",
    "from reportlab.lib import colors\n",
    "from reportlab.lib.styles import ParagraphStyle\n",
    "from reportlab.pdfbase import pdfmetrics\n",
    "from reportlab.pdfbase.pdfmetrics import registerFontFamily\n",
    "from reportlab.pdfbase.ttfonts import TTFont\n",
    "from reportlab.platypus import Paragraph\n",
    "from reportlab.platypus import SimpleDocTemplate, Paragraph, Table, Image\n",
    "from reportlab.lib.styles import getSampleStyleSheet\n",
    "\n",
    "home = os.path.expanduser(\"~\")\n",
    "\n",
    "pdfmetrics.registerFont(TTFont('MSJH', './fonts/MSJH.TTC'))\n",
    "pdfmetrics.registerFont(TTFont('MSJHBD', './fonts/MSJHBD.TTC'))\n",
    "registerFontFamily(\"MSJH\", normal=\"MSJH\", bold=\"MSJHBD\")\n",
    "FONT_NAME = \"MSJH\"\n",
    "\n",
    "class MyCSS:\n",
    "    h1 = ParagraphStyle(name=\"h1\", fontName=FONT_NAME, fontSize=21, leading=28, alignment=1, spaceAfter=16)\n",
    "    h3 = ParagraphStyle(name=\"h3\", fontName=FONT_NAME, fontSize=14, leading=21, spaceBefore=16)\n",
    "    h4 = ParagraphStyle(name=\"h4\", fontName=FONT_NAME, fontSize=12, leading=21, spaceBefore=8)\n",
    "    h5 = ParagraphStyle(name=\"h5\", fontName=FONT_NAME, fontSize=12, leading=21, spaceBefore=12)\n",
    "    p = ParagraphStyle(name=\"BodyText\", fontName=FONT_NAME, fontSize=12, leading=18, spaceBefore=8, firstLineIndent=24)\n",
    "    r = ParagraphStyle(name=\"BodyText\", fontName=FONT_NAME, fontSize=12, leading=18, spaceBefore=8, firstLineIndent=24, textColor=colors.red)\n",
    "\n",
    "class PiiPdf:\n",
    "    @classmethod\n",
    "    def doH1(cls, text: str):\n",
    "        return Paragraph(text, MyCSS.h1)\n",
    "\n",
    "    @classmethod\n",
    "    def doH3(cls, text: str):\n",
    "        return Paragraph(text, MyCSS.h3)\n",
    "    \n",
    "    @classmethod\n",
    "    def doH4(cls, text: str):\n",
    "        return Paragraph(text, MyCSS.h4)\n",
    "    \n",
    "    @classmethod\n",
    "    def doH5(cls, text: str):\n",
    "        return Paragraph(text, MyCSS.h5)\n",
    "\n",
    "    @classmethod\n",
    "    def doP(cls, text: str):\n",
    "        return Paragraph(text, MyCSS.p)\n",
    "\n",
    "from reportlab.platypus import TableStyle\n",
    "table_style=TableStyle([\n",
    "         ('FONT', (0, 0), (-1, -1), 'MSJH', 10),\n",
    "         ('ALIGN', (0, 0), (-1, -1), 'CENTER'),\n",
    "         ('GRID', (0,0), (-1,-1), 0.5, colors.gray),\n",
    "         ('INNERGRID', (0,0), (-1,-1), 0.25, colors.gray),\n",
    "         ('BOX', (0,0), (-1,-1), 0.25, colors.gray),\n",
    "         ('BACKGROUND',(0,0),(-1,0),colors.lavender),\n",
    "         ('BACKGROUND',(0,-1),(-1,-1),colors.white)])\n",
    "table_style_p11=TableStyle([\n",
    "         ('FONT', (0, 0), (-1, -1), 'MSJH', 10),\n",
    "         ('ALIGN', (0, 0), (-1, 0), 'CENTER'),\n",
    "         ('ALIGN', (0, -1), (-1, -1), 'LEFT'),\n",
    "         ('GRID', (0,0), (-1,-1), 0.5, colors.gray),\n",
    "         ('INNERGRID', (0,0), (-1,-1), 0.25, colors.gray),\n",
    "         ('BOX', (0,0), (-1,-1), 0.25, colors.gray),\n",
    "         ('BACKGROUND',(0,0),(-1,0),colors.lavender),\n",
    "         ('BACKGROUND',(0,-1),(-1,-1),colors.white)])\n",
    "table_style_p12=TableStyle([\n",
    "         ('FONT', (0, 0), (-1, -1), 'MSJH', 10),\n",
    "         ('ALIGN', (0, 0), (-1, -1), 'CENTER'),\n",
    "         ('GRID', (0,0), (-1,-1), 0.5, colors.gray),\n",
    "         ('INNERGRID', (0,0), (-1,-1), 0.25, colors.gray),\n",
    "         ('BOX', (0,0), (-1,-1), 0.25, colors.gray),\n",
    "         ('BACKGROUND',(0,0),(-1,0),colors.lavender),\n",
    "         ('BACKGROUND',(0,-1),(-1,-1),colors.white)])\n",
    "table_style_p1 = TableStyle([\n",
    "         ('FONT', (0, 0), (-1, -1), 'MSJH', 10),\n",
    "         ('ALIGN', (0, 0), (-1, 0), 'CENTER'),\n",
    "         ('ALIGN', (0, -1), (-1, -1), 'LEFT'),\n",
    "         ('GRID', (0,0), (-1,-1), 0.5, colors.gray),\n",
    "         ('INNERGRID', (0,0), (-1,-1), 0.25, colors.gray),\n",
    "         ('BOX', (0,0), (-1,-1), 0.25, colors.gray),\n",
    "         ('BACKGROUND',(0,0),(-1,0),colors.lavender),\n",
    "         ('BACKGROUND',(0,-1),(-1,-1),colors.lemonchiffon)])\n",
    "table_style_p2 = TableStyle([\n",
    "         ('FONT', (0, 0), (-1, -1), 'MSJH', 10),\n",
    "         ('ALIGN', (0, 0), (-1, -1), 'CENTER'),\n",
    "         ('GRID', (0,0), (-1,-1), 0.5, colors.gray),\n",
    "         ('INNERGRID', (0,0), (-1,-1), 0.25, colors.gray),\n",
    "         ('BOX', (0,0), (-1,-1), 0.25, colors.gray),\n",
    "         ('BACKGROUND',(0,0),(-1,0),colors.lavender),\n",
    "         ('BACKGROUND',(0,-1),(-1,-1),colors.lemonchiffon)])\n",
    "table_style_t = TableStyle([\n",
    "         ('FONT', (0, 0), (-1, -1), 'MSJHBD', 10),\n",
    "         ('ALIGN', (0, 0), (-1, -1), 'CENTER'),\n",
    "         ('GRID', (0,0), (-1,-1), 0.5, colors.gray),\n",
    "         ('INNERGRID', (0,0), (-1,-1), 0.25, colors.gray),\n",
    "         ('BOX', (0,0), (-1,-1), 0.25, colors.gray),\n",
    "         ('BACKGROUND',(0,0),(-1,-1),colors.lavender)])\n",
    "table_style_k1 = TableStyle([\n",
    "         ('FONT', (0, 0), (-1, -1), 'MSJH', 11),\n",
    "         ('ALIGN', (0, 0), (-1, -1), 'LEFT'),\n",
    "         ('GRID', (0,0), (-1,-1), 0.5, colors.white),\n",
    "         ('INNERGRID', (0,0), (-1,-1), 0.25, colors.white),\n",
    "         ('BOX', (0,0), (-1,-1), 0.25, colors.white),\n",
    "         ('BACKGROUND',(0,0),(-1,-1),colors.white)])\n",
    "table_style_k2 = TableStyle([\n",
    "         ('FONT', (0, 0), (-1, -1), 'MSJH', 10),\n",
    "         ('ALIGN', (0, 0), (-1, -1), 'RIGHT'),\n",
    "         ('GRID', (0,0), (-1,-1), 0.5, colors.white),\n",
    "         ('INNERGRID', (0,0), (-1,-1), 0.25, colors.white),\n",
    "         ('BOX', (0,0), (-1,-1), 0.25, colors.white),\n",
    "         ('BACKGROUND',(0,0),(-1,-1),colors.white)])"
   ]
  },
  {
   "cell_type": "markdown",
   "id": "286e4996",
   "metadata": {},
   "source": [
    "### 匯入文檔（字典）"
   ]
  },
  {
   "cell_type": "code",
   "execution_count": 23,
   "id": "d5dbcbe4",
   "metadata": {},
   "outputs": [],
   "source": [
    "import jieba\n",
    "import jieba.analyse\n",
    "\n",
    "jieba.set_dictionary(\"./dict.txt\")\n",
    "# 載入自定義詞庫：jieba.load_userdict(file_path)\n",
    "# 加入字詞：jieba.add_word(word, freq=None, tag=None)\n",
    "# 刪除字詞：jieba.del_word(word)\n",
    "\n",
    "with open('./stopwords_zhTW.txt', encoding=\"utf-8\") as f:\n",
    "    stopword_list = [s for s in f.read().split('\\n')]"
   ]
  },
  {
   "cell_type": "markdown",
   "id": "4d77a9b0",
   "metadata": {},
   "source": [
    "### 匯入文檔（文本*2）"
   ]
  },
  {
   "cell_type": "code",
   "execution_count": 24,
   "id": "7d2d130f",
   "metadata": {},
   "outputs": [],
   "source": [
    "def load_file(filename): #匯入檔案名\n",
    "    file = '' \n",
    "    path = './uploads/' + filename\n",
    "    with open(path,'r', encoding = 'utf-8') as load:\n",
    "        file = load.readlines()\n",
    "        load.close()\n",
    "    return file"
   ]
  },
  {
   "cell_type": "markdown",
   "id": "feb176de",
   "metadata": {},
   "source": [
    "### 預處理 1：段落（移除空行、擷取標題）"
   ]
  },
  {
   "cell_type": "code",
   "execution_count": 25,
   "id": "927d569b",
   "metadata": {},
   "outputs": [],
   "source": [
    "def pre_p(file):\n",
    "    pre = []\n",
    "    for i in file:\n",
    "        if i != '\\n':\n",
    "            pre.append(i)\n",
    "    title = pre[0]\n",
    "    pre.remove(pre[0])\n",
    "    return pre, title"
   ]
  },
  {
   "cell_type": "markdown",
   "id": "5e14829b",
   "metadata": {},
   "source": [
    "### 預處理 2：文句（Jieba斷詞）"
   ]
  },
  {
   "cell_type": "code",
   "execution_count": 26,
   "id": "e5473124",
   "metadata": {},
   "outputs": [],
   "source": [
    "def pre_file(file):\n",
    "    part = ''\n",
    "    for i in range(len(file)):\n",
    "        word_list = jieba.cut(file[i], cut_all=False)\n",
    "        for word in word_list:\n",
    "            if word not in stopword_list:\n",
    "                part += word + \" \"\n",
    "    return part"
   ]
  },
  {
   "cell_type": "markdown",
   "id": "389d70c9",
   "metadata": {},
   "source": [
    "### 全文詞向量：10個關鍵字（Jieba TF-IDF）"
   ]
  },
  {
   "cell_type": "code",
   "execution_count": 27,
   "id": "a7ec74f4",
   "metadata": {},
   "outputs": [],
   "source": [
    "def all_part(a_part):\n",
    "    all_part = jieba.analyse.extract_tags(a_part, topK=10, withWeight=False, allowPOS=()) #topK為返回幾個TF / IDF權重最大的關鍵詞，默認值為20\n",
    "    #print(all_part)\n",
    "    #for x, w in jieba.analyse.extract_tags(a_part, topK=10, withWeight=True):\n",
    "        #print('%s %s' % (x, w))\n",
    "    return all_part"
   ]
  },
  {
   "cell_type": "markdown",
   "id": "a0b9c81e",
   "metadata": {},
   "source": [
    "### 詞彙分布圖：全文"
   ]
  },
  {
   "cell_type": "code",
   "execution_count": 28,
   "id": "1ad0ae07",
   "metadata": {},
   "outputs": [],
   "source": [
    "import matplotlib.pyplot as plt\n",
    "import nltk, time\n",
    "\n",
    "def img(all_part, filename):\n",
    "    fig = plt.figure(figsize=(10, 5)) \n",
    "    load_path = \"./uploads/\" + filename\n",
    "    raw = open(load_path, encoding = 'utf-8').read() \n",
    "    text1 = nltk.text.Text(jieba.cut(raw))\n",
    "    graph1 = nltk.text.Text(text1)\n",
    "    graph1.dispersion_plot(all_part)\n",
    "    timestr = time.strftime(\"%Y%m%d-%H%M%S\")\n",
    "    path = './output/' + timestr + 'plot.png'\n",
    "    if os.path.isfile(path):\n",
    "        time.sleep(1)\n",
    "        timestr = time.strftime(\"%Y%m%d-%H%M%S\")\n",
    "        path = './output/' + timestr + 'plot.png'\n",
    "    fig.savefig(path)\n",
    "    return path"
   ]
  },
  {
   "cell_type": "markdown",
   "id": "9fa69c83",
   "metadata": {},
   "source": [
    "### 詞彙多樣性：全文"
   ]
  },
  {
   "cell_type": "code",
   "execution_count": 29,
   "id": "6a7cb07d",
   "metadata": {},
   "outputs": [],
   "source": [
    "def lexical_diversity(text):\n",
    "    return len(set(text)) / len(text)"
   ]
  },
  {
   "cell_type": "markdown",
   "id": "42b1c250",
   "metadata": {},
   "source": [
    "### 段落詞向量：3 個關鍵字（文本對齊）"
   ]
  },
  {
   "cell_type": "code",
   "execution_count": 30,
   "id": "a3a59733",
   "metadata": {},
   "outputs": [],
   "source": [
    "def part_(file):\n",
    "    part = []\n",
    "    for i in range(len(file)):\n",
    "        s = file[i]\n",
    "        epart = jieba.analyse.extract_tags(s, topK=3, withWeight=False, allowPOS=()) #topK為返回幾個TF / IDF權重最大的關鍵詞，默認值為20\n",
    "        part.append(epart)\n",
    "        #print(epart)\n",
    "        #for x, w in jieba.analyse.extract_tags(s, topK=3, withWeight=True):\n",
    "            #print('%s %s' % (x, w))\n",
    "        #print()\n",
    "    return part"
   ]
  },
  {
   "cell_type": "markdown",
   "id": "551f21b5",
   "metadata": {},
   "source": [
    "### 預處理 3：段落對齊"
   ]
  },
  {
   "cell_type": "code",
   "execution_count": 31,
   "id": "d9becc77",
   "metadata": {},
   "outputs": [],
   "source": [
    "def keyword_table(partA, partB):\n",
    "    keywords = []\n",
    "    empty = ['－', '－', '－']\n",
    "    if len(partA) > len(partB):\n",
    "        count_em = len(partA) - len(partB)\n",
    "        for count in range(count_em):\n",
    "            partB.append(empty)\n",
    "    else:\n",
    "        count_em = len(partB) - len(partA)\n",
    "        for count in range(count_em):\n",
    "            partA.append(empty)\n",
    "\n",
    "    for i in range(len(partA)):\n",
    "        keywords.append([partA[i], partB[i]])\n",
    "    \n",
    "    return keywords"
   ]
  },
  {
   "cell_type": "markdown",
   "id": "cbac8816",
   "metadata": {},
   "source": [
    "### 【關鍵字】&【段落】"
   ]
  },
  {
   "cell_type": "code",
   "execution_count": 32,
   "id": "c55c8074",
   "metadata": {},
   "outputs": [],
   "source": [
    "def title_table(aj, ai, bi, story):\n",
    "    key = \"【關鍵字】：\" + aj\n",
    "    para = \"【段落】：\" + str(ai+1) + \"→\" + str(bi+1)\n",
    "    t_list = [[key,para]]\n",
    "    t_table = Table(t_list, colWidths=220, style=table_style_k1, spaceBefore=8,  spaceAfter=4)\n",
    "    story.append(t_table)"
   ]
  },
  {
   "cell_type": "markdown",
   "id": "dacb999c",
   "metadata": {},
   "source": [
    "### 【相似程度】"
   ]
  },
  {
   "cell_type": "code",
   "execution_count": 33,
   "id": "ffb6391f",
   "metadata": {},
   "outputs": [],
   "source": [
    "def factorial(n):\n",
    "    sum = 1\n",
    "    for i in range(1, n + 1):\n",
    "        sum *= i\n",
    "    return sum\n",
    "\n",
    "def degree_table(count, high_count, story, aList, bList):\n",
    "    n_factorial = factorial(len(aList))\n",
    "    nr_factorial = factorial(len(aList)-len(bList))\n",
    "    sum_count = n_factorial/nr_factorial\n",
    "    count_cal = round((count/sum_count),2)\n",
    "    count_cal += (high_count*0.15)\n",
    "    if count_cal < 0.33:\n",
    "        degree = \"【相似程度】：低\"\n",
    "    elif count_cal < 0.66:\n",
    "        degree = \"【相似程度】：中\"\n",
    "    else:\n",
    "        degree = \"【相似程度】：高\"\n",
    "    d_list = [[degree]]\n",
    "    d_table = Table(d_list, colWidths=440, style=table_style_k2, spaceBefore=4,  spaceAfter=8)\n",
    "    story.append(d_table)"
   ]
  },
  {
   "cell_type": "markdown",
   "id": "2c36cef9",
   "metadata": {},
   "source": [
    "### LCS演算法：最長公共子串列"
   ]
  },
  {
   "cell_type": "code",
   "execution_count": 34,
   "id": "53b8dc8e",
   "metadata": {},
   "outputs": [],
   "source": [
    "def lcs(s1, s2, m, n):\n",
    "    num = [[0 for i in range(n+1)] for j in range(m+1)]\n",
    "    for i in range(1,m+1):\n",
    "        for j in range(1, n+1):\n",
    "            if s1[i-1] == s2[j-1]:\n",
    "                num[i][j] = num[i-1][j-1]+1\n",
    "            else:\n",
    "                num[i][j] = max(num[i-1][j], num[i][j-1])\n",
    "    return num[-1][-1]"
   ]
  },
  {
   "cell_type": "markdown",
   "id": "29854b94",
   "metadata": {},
   "source": [
    "## ※ 相似度分析：句子"
   ]
  },
  {
   "cell_type": "code",
   "execution_count": 35,
   "id": "b5f94f02",
   "metadata": {},
   "outputs": [],
   "source": [
    "import re, difflib, time\n",
    "import editdistance\n",
    "def analyze(partA, partB, story, file1, file2, p):\n",
    "    for ai in range(len(partA)):\n",
    "        for aj in partA[ai]:\n",
    "            for bi in range(len(partB)):\n",
    "                for bj in partB[bi]:\n",
    "                    if aj == bj:\n",
    "                        #print(\"【關鍵字】：\", aj)\n",
    "                        count = 0\n",
    "                        high_count = 0\n",
    "                        title_table(aj, ai, bi, story)\n",
    "                        keyword1 = [['文本1', '文本2']]\n",
    "                        keyword2 = [['相似度', 'LCS', '編輯距離']]\n",
    "                        aList = re.split('，|。', str(file1[ai])) #文本1段落句_串列\n",
    "                        bList = re.split('，|。', str(file2[bi])) #文本2段落句_串列\n",
    "                        for s1 in aList: #抓出文本1段落句\n",
    "                            if aj in s1: #符合關鍵字的段落\n",
    "                                num1 = 0\n",
    "                                num2 = 0\n",
    "                                for s2 in bList: #抓出文本2段落句\n",
    "                                    if aj in s2: #符合關鍵字的段落\n",
    "                                        count += 1 #相似段落統計\n",
    "                                        s1.strip()\n",
    "                                        if len(s1) > 19:\n",
    "                                            if num1 < 1:\n",
    "                                                s1_list = list(s1)\n",
    "                                                s1_list.insert(21, '\\n')\n",
    "                                                s1 = ''.join(s1_list)\n",
    "                                                num1 += 1\n",
    "                                        s2.strip()\n",
    "                                        if len(s2) > 19:\n",
    "                                            if num2 < 1:\n",
    "                                                s2_list = list(s2)\n",
    "                                                s2_list.insert(21, '\\n')\n",
    "                                                s2 = ''.join(s2_list)\n",
    "                                                num2 += 1\n",
    "                                        list1 = []\n",
    "                                        list2 = []\n",
    "                                        list1.append(s1)\n",
    "                                        list1.append(s2)\n",
    "                                        #print(\"%1s %-50s %1s %-50s\" % (\"A\", s1, \"B\", s2))  # 相似段落\n",
    "                                        diff_cal = difflib.SequenceMatcher(None, s1, s2).ratio() #diff_cal\n",
    "                                        diff_cal = round(diff_cal,2)\n",
    "                                        list2.append(diff_cal)\n",
    "                                        #print(\"Diff: \", diff_cal)\n",
    "                                        lcs_cal = lcs(s1, s2, len(s1), len(s2)) #lcs_cal\n",
    "                                        list2.append(lcs_cal)\n",
    "                                        #print(\"LCS: \", lcs_cal)\n",
    "                                        editDistance = editdistance.eval(s1, s2)\n",
    "                                        list2.append(editDistance)\n",
    "                                        #print(\"Edit distance: \", editDistance) #editdistance\n",
    "                                        #print()\n",
    "                                        if diff_cal >= 0.5:\n",
    "                                            keyword1.append(list1)\n",
    "                                            content = Table(keyword1, colWidths=220, style=table_style_p1)\n",
    "                                            story.append(content)\n",
    "\n",
    "                                            keyword2.append(list2)\n",
    "                                            number = Table(keyword2, colWidths=146.6, style=table_style_p2)\n",
    "                                            story.append(number)\n",
    "                                            high_count += 1\n",
    "                                        else:\n",
    "                                            keyword1.append(list1)\n",
    "                                            content = Table(keyword1, colWidths=220, style=table_style_p11)\n",
    "                                            story.append(content)\n",
    "\n",
    "                                            keyword2.append(list2)\n",
    "                                            number = Table(keyword2, colWidths=146.6, style=table_style_p12)\n",
    "                                            story.append(number)\n",
    "                                        keyword1 = []\n",
    "                                        keyword2 = []\n",
    "                        degree_table(count, high_count, story, aList, bList)\n",
    "    timestr = time.strftime(\"%Y%m%d-%H%M%S\")\n",
    "    report_path = \"./output/\" + timestr + \"Report.pdf\"\n",
    "    if os.path.isfile(report_path):\n",
    "        time.sleep(1)\n",
    "        timestr = time.strftime(\"%Y%m%d-%H%M%S\")\n",
    "        report_path = \"./output/\" + timestr + \"Report.pdf\" # 檔案名稱+時間\n",
    "    doc = SimpleDocTemplate(report_path)\n",
    "    doc.build(story)\n",
    "    return report_path, timestr"
   ]
  },
  {
   "cell_type": "markdown",
   "id": "2736e968",
   "metadata": {},
   "source": [
    "## ※ 文本分析報告"
   ]
  },
  {
   "cell_type": "code",
   "execution_count": 36,
   "id": "9b67e90c",
   "metadata": {},
   "outputs": [],
   "source": [
    "def compared_report(filename1, filename2): # 時間\n",
    "    p = PiiPdf()\n",
    "    story = []\n",
    "    story.append(p.doH1(\"<b>文本分析報告</b>\"))\n",
    "    \n",
    "    f1 = load_file(filename1)\n",
    "    story.append(p.doH3(\"<b>文本1</b>\"))\n",
    "    f1, f1_title = pre_p(f1)\n",
    "    story.append(p.doH4(\"【標題】：\" + f1_title + \"　（段落＝\" + str(len(f1)) + \"）\"))\n",
    "    \n",
    "    story.append(p.doH3(\"<b>全文關鍵字</b>\"))\n",
    "    a_part = pre_file(f1)\n",
    "    allPart_1 = all_part(a_part)\n",
    "    ten_part = [['1', '2', '3', '4', '5', '6', '7', '8', '9', '10']]\n",
    "    ten_part.append(allPart_1)\n",
    "    t = Table(ten_part, colWidths=44, style=table_style, spaceBefore=4)\n",
    "    story.append(t)\n",
    "    \n",
    "    story.append(p.doH3(\"<b>詞彙分布圖</b>\"))\n",
    "    path1 = img(allPart_1, filename1)\n",
    "    photo1 = Image(path1, width=540, height=270)\n",
    "    story.append(photo1)\n",
    "    \n",
    "    f2 = load_file(filename2)\n",
    "    story.append(p.doH3(\"<b>文本2</b>\"))\n",
    "    f2, f2_title = pre_p(f2)\n",
    "    story.append(p.doH4(\"【標題】：\" + f2_title + \"　（段落＝\" + str(len(f2)) + \"）\"))\n",
    "    \n",
    "    story.append(p.doH3(\"<b>全文關鍵字</b>\"))\n",
    "    b_part = pre_file(f2)\n",
    "    allPart_2 = all_part(b_part)\n",
    "    ten_part = [['1', '2', '3', '4', '5', '6', '7', '8', '9', '10']]\n",
    "    ten_part.append(allPart_2)\n",
    "    t = Table(ten_part, colWidths=44, style=table_style, spaceBefore=4)\n",
    "    story.append(t)\n",
    "    \n",
    "    story.append(p.doH3(\"<b>詞彙分布圖</b>\"))\n",
    "    path2 = img(allPart_2, filename2)\n",
    "    photo2 = Image(path2, width=540, height=270)\n",
    "    story.append(photo2)\n",
    "    \n",
    "    story.append(p.doH3(\"<b>詞彙多樣性</b>\"))\n",
    "    score1 = lexical_diversity(a_part)\n",
    "    score2 = lexical_diversity(b_part)\n",
    "    score = [['文本1', '文本2']]\n",
    "    score_ = [score1, score1]\n",
    "    score.append(score_)\n",
    "    score_F = Table(score, colWidths=220, style=table_style, spaceBefore=4)\n",
    "    story.append(score_F)\n",
    "    \n",
    "    partA = part_(f1)\n",
    "    partB = part_(f2)\n",
    "    story.append(p.doH3(\"<b>段落關鍵字</b>\"))\n",
    "    key_ = [['文本1', '文本2']]\n",
    "    key_title = Table(key_, colWidths=220, style=table_style_t, spaceBefore=4)\n",
    "    story.append(key_title)\n",
    "    keyword_ = [['KEY1','KEY2','KEY3','KEY4','KEY5','KEY6']]\n",
    "    keywords = keyword_table(partA, partB)\n",
    "    for key in keywords:\n",
    "        keyword = key[0] + key[1]\n",
    "        keyword_.append(keyword)\n",
    "    key_content = Table(keyword_, colWidths=73.3, style=table_style)\n",
    "    story.append(key_content)\n",
    "                 \n",
    "    story.append(p.doH3(\"<b>段落比對結果</b>\"))\n",
    "    report_path, timestr = analyze(partA, partB, story, f1, f2, p)\n",
    "    return report_path, timestr, f1_title, f2_title"
   ]
  },
  {
   "cell_type": "markdown",
   "id": "f3799623",
   "metadata": {},
   "source": [
    "## ※ 多文本比對機制"
   ]
  },
  {
   "cell_type": "code",
   "execution_count": 37,
   "id": "f2d8eb07",
   "metadata": {},
   "outputs": [],
   "source": [
    "import pathlib, os\n",
    "def file_count():\n",
    "    items = []\n",
    "    count = 0\n",
    "    initial_count = 0\n",
    "    f1_title = ''\n",
    "    f2_title = ''\n",
    "    file_list = [f for f in os.listdir(\"./uploads\") if os.path.isfile(os.path.join(\"./uploads\",f))]\n",
    "    print(file_list)\n",
    "    for path in pathlib.Path(\"./uploads\").iterdir():\n",
    "        if path.is_file():\n",
    "            initial_count += 1\n",
    "    for i in range(initial_count):\n",
    "        for j in range(initial_count):\n",
    "            if i != j and j<i:\n",
    "                count += 1\n",
    "                filename1 = file_list[i]\n",
    "                filename2 = file_list[j]\n",
    "                report_path, tstr, f1_title, f2_title = compared_report(filename1, filename2)\n",
    "                timestr = tstr[:4] + '/' + tstr[4:6] + '/' + tstr[6:8] +  ' ' + tstr[9:11] + ':' + tstr[11:13] + ':' + tstr[-2:]\n",
    "                an_item = dict(num=count, f1=f1_title, f2=f2_title, time=timestr, path=report_path)\n",
    "                items.append(an_item)\n",
    "    return items, count, file_list"
   ]
  },
  {
   "cell_type": "markdown",
   "id": "551bb13b",
   "metadata": {},
   "source": [
    "## ※ 使用者介面：網站"
   ]
  },
  {
   "cell_type": "code",
   "execution_count": 38,
   "id": "100b41f4",
   "metadata": {},
   "outputs": [],
   "source": [
    "from flask import Flask, render_template, send_from_directory, request, url_for, flash, redirect\n",
    "from werkzeug.utils import secure_filename\n",
    "import os\n",
    "\n",
    "app = Flask(__name__)\n",
    "app.config['UPLOAD_FOLDER'] = 'C:/Users/yulin/anaconda3/GProject_/uploads'\n",
    "app.config['DOWNLOAD_FOLDER'] = 'C:/Users/yulin/anaconda3/GProject_/output'\n",
    "ALLOWED_EXTENSIONS = set(['txt', 'pdf'])\n",
    "\n",
    "@app.route(\"/\")\n",
    "def index():\n",
    "    return render_template(\"index.html\")\n",
    "@app.route('/Background.png')\n",
    "def background(): \n",
    "    return send_from_directory(os.path.join(app.root_path, '/static'), 'Background.png')\n",
    "@app.route('/favicon.svg')\n",
    "def favicon(): \n",
    "    return send_from_directory(os.path.join(app.root_path, '/static'), 'favicon.svg')\n",
    "\n",
    "def allowed_file(filename):\n",
    "    return '.' in filename and \\\n",
    "           filename.rsplit('.', 1)[1].lower() in ALLOWED_EXTENSIONS\n",
    "\n",
    "@app.route('/file-upload', methods=['GET', 'POST'])\n",
    "def upload_file():\n",
    "    if request.method == 'POST':\n",
    "        file = request.files['file']\n",
    "        if file and allowed_file(file.filename):\n",
    "            filename = secure_filename(file.filename)\n",
    "            file.save(os.path.join(app.config['UPLOAD_FOLDER'], filename))\n",
    "            return redirect(url_for('uploaded_file', filename=filename))\n",
    "            \n",
    "@app.route('/uploads/<filename>')\n",
    "def uploaded_file(filename):\n",
    "    return send_from_directory(app.config['UPLOAD_FOLDER'], filename)\n",
    "\n",
    "@app.route('/file-compared', methods=['POST', 'GET'])\n",
    "def compared_file():\n",
    "    items, count, file_list = file_count()\n",
    "    for file in file_list:\n",
    "        path = 'C:/Users/yulin/anaconda3/GProject_/uploads/' + file\n",
    "        os.remove(path)\n",
    "    return render_template(\"compared.html\", items=items)\n",
    "\n",
    "@app.route('/output/<filename>', methods=['GET', 'POST'])\n",
    "def download(filename):\n",
    "    return send_from_directory(app.config['DOWNLOAD_FOLDER'], filename)"
   ]
  },
  {
   "cell_type": "code",
   "execution_count": null,
   "id": "60aab0db",
   "metadata": {
    "scrolled": true
   },
   "outputs": [
    {
     "name": "stdout",
     "output_type": "stream",
     "text": [
      " * Serving Flask app \"__main__\" (lazy loading)\n",
      " * Environment: production\n",
      "\u001b[31m   WARNING: This is a development server. Do not use it in a production deployment.\u001b[0m\n",
      "\u001b[2m   Use a production WSGI server instead.\u001b[0m\n",
      " * Debug mode: off\n"
     ]
    },
    {
     "name": "stderr",
     "output_type": "stream",
     "text": [
      " * Running on http://127.0.0.1:5000/ (Press CTRL+C to quit)\n",
      "127.0.0.1 - - [08/Jul/2022 11:09:26] \"GET / HTTP/1.1\" 200 -\n"
     ]
    }
   ],
   "source": [
    "if __name__ == '__main__':\n",
    "    app.run()"
   ]
  },
  {
   "cell_type": "code",
   "execution_count": null,
   "id": "2b240655",
   "metadata": {},
   "outputs": [],
   "source": []
  },
  {
   "cell_type": "code",
   "execution_count": null,
   "id": "bd82b92e",
   "metadata": {},
   "outputs": [],
   "source": []
  }
 ],
 "metadata": {
  "kernelspec": {
   "display_name": "Python 3 (ipykernel)",
   "language": "python",
   "name": "python3"
  },
  "language_info": {
   "codemirror_mode": {
    "name": "ipython",
    "version": 3
   },
   "file_extension": ".py",
   "mimetype": "text/x-python",
   "name": "python",
   "nbconvert_exporter": "python",
   "pygments_lexer": "ipython3",
   "version": "3.9.7"
  }
 },
 "nbformat": 4,
 "nbformat_minor": 5
}
